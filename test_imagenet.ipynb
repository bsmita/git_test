{
  "nbformat": 4,
  "nbformat_minor": 0,
  "metadata": {
    "colab": {
      "name": "test_imagenet.ipynb",
      "version": "0.3.2",
      "provenance": [],
      "include_colab_link": true
    },
    "kernelspec": {
      "name": "python3",
      "display_name": "Python 3"
    }
  },
  "cells": [
    {
      "cell_type": "markdown",
      "metadata": {
        "id": "view-in-github",
        "colab_type": "text"
      },
      "source": [
        "<a href=\"https://colab.research.google.com/github/bsmita/git_test/blob/master/test_imagenet.ipynb\" target=\"_parent\"><img src=\"https://colab.research.google.com/assets/colab-badge.svg\" alt=\"Open In Colab\"/></a>"
      ]
    },
    {
      "metadata": {
        "id": "_xmkDqyFSgYj",
        "colab_type": "code",
        "outputId": "3a3fd78a-e2b2-4a70-9e75-ae7504b12753",
        "colab": {
          "base_uri": "https://localhost:8080/",
          "height": 914
        }
      },
      "cell_type": "code",
      "source": [
        "# USAGE\n",
        "# python test_imagenet.py --image images/dog_beagle.png\n",
        "\n",
        "# import the necessary packages\n",
        "\n",
        "#Connect to Google drive\n",
        "from google.colab import drive\n",
        "\n",
        "#Mount Google drive folder that has notebooks\n",
        "#drive.mount(\"/content/drive/My Drive/Colab Notebooks\", force_remount=True)\n",
        "drive.mount(\"/content/drive/\", force_remount=True)\n",
        "from keras.preprocessing import image as image_utils\n",
        "from keras.applications.imagenet_utils import decode_predictions\n",
        "from keras.applications.imagenet_utils import preprocess_input\n",
        "from keras.applications import VGG16\n",
        "import numpy as np\n",
        "import argparse\n",
        "import cv2\n",
        "import sys,os,argparse\n",
        "\n",
        "# construct the argument parser and parse the arguments\n",
        "sys.argv = ['test_imagenet.py', '--image', './drive/My*Drive/Colab*Notebooks/images/dog_beagle.png']\n",
        "ap = argparse.ArgumentParser()\n",
        "#parser.add_argument(\"input_file\",help=\"Input image\")\n",
        "ap.add_argument(\"--image\", required=True,\n",
        "    help=\"path to the input image\")\n",
        "args = ap.parse_args()\n",
        "print('Image name is....')\n",
        "print(args.image)\n",
        "\n",
        "\n",
        "\n",
        "# load the original image via OpenCV so we can draw on it and display\n",
        "# it to our screen later\n",
        "orig = cv2.imread(args.image)\n",
        "\n",
        "# load the input image using the Keras helper utility while ensuring\n",
        "# that the image is resized to 224x224 pxiels, the required input\n",
        "# dimensions for the network -- then convert the PIL image to a\n",
        "# NumPy array\n",
        "#cwd = os.getcwd()\n",
        "#print('Current working directory is....')\n",
        "#print (cwd)\n",
        "\n",
        "#os.chdir('./drive/My Drive/Colab Notebooks/images/')\n",
        "#list = os.listdir()\n",
        "#print (list)\n",
        "print(\"[INFO] loading and preprocessing image...\")\n",
        "image = image_utils.load_img('dog_beagle.png', target_size=(224, 224))\n",
        "image = image_utils.img_to_array(image)\n",
        "\n",
        "# our image is now represented by a NumPy array of shape (224, 224, 3),\n",
        "# assuming TensorFlow \"channels last\" ordering of course, but we need\n",
        "# to expand the dimensions to be (1, 3, 224, 224) so we can pass it\n",
        "# through the network -- we'll also preprocess the image by subtracting\n",
        "# the mean RGB pixel intensity from the ImageNet dataset\n",
        "image = np.expand_dims(image, axis=0)\n",
        "image = preprocess_input(image)\n",
        "\n",
        "# load the VGG16 network pre-trained on the ImageNet dataset\n",
        "print(\"[INFO] loading network...\")\n",
        "model = VGG16(weights=\"imagenet\")\n",
        "\n",
        "# classify the image\n",
        "print(\"[INFO] classifying image...\")\n",
        "preds = model.predict(image)\n",
        "P = decode_predictions(preds)\n",
        "\n",
        "# loop over the predictions and display the rank-5 predictions +\n",
        "# probabilities to our terminal\n",
        "for (i, (imagenetID, label, prob)) in enumerate(P[0]):\n",
        "    print(\"{}. {}: {:.2f}%\".format(i + 1, label, prob * 100))\n",
        "\n",
        "# load the image via OpenCV, draw the top prediction on the image,\n",
        "# and display the image to our screen\n",
        "#orig = cv2.imread(args.image)\n",
        "#(imagenetID, label, prob) = P[0][0]\n",
        "#cv2.putText(orig, \"Label: {}, {:.2f}%\".format(label, prob * 100),\n",
        " #   (10, 30), cv2.FONT_HERSHEY_SIMPLEX, 0.8, (0, 255, 0), 2)\n",
        "#cv2.imshow(\"Classification\", orig)\n",
        "#cv2.waitKey(0)\n"
      ],
      "execution_count": 36,
      "outputs": [
        {
          "output_type": "stream",
          "text": [
            "ERROR:root:Internal Python error in the inspect module.\n",
            "Below is the traceback from this internal error.\n",
            "\n"
          ],
          "name": "stderr"
        },
        {
          "output_type": "stream",
          "text": [
            "Mounted at /content/drive/\n",
            "Image name is....\n",
            "./drive/My*Drive/Colab*Notebooks/images/dog_beagle.png\n",
            "[INFO] loading and preprocessing image...\n",
            "Traceback (most recent call last):\n",
            "  File \"/usr/local/lib/python3.6/dist-packages/IPython/core/interactiveshell.py\", line 2882, in run_code\n",
            "    exec(code_obj, self.user_global_ns, self.user_ns)\n",
            "  File \"<ipython-input-36-0028859495c7>\", line 43, in <module>\n",
            "    image = image_utils.load_img('dog_beagle.png', target_size=(224, 224))\n",
            "  File \"/usr/local/lib/python3.6/dist-packages/keras_preprocessing/image.py\", line 498, in load_img\n",
            "    img = pil_image.open(path)\n",
            "  File \"/usr/local/lib/python3.6/dist-packages/PIL/Image.py\", line 2312, in open\n",
            "    fp = builtins.open(filename, \"rb\")\n",
            "OSError: [Errno 107] Transport endpoint is not connected: 'dog_beagle.png'\n",
            "\n",
            "During handling of the above exception, another exception occurred:\n",
            "\n",
            "Traceback (most recent call last):\n",
            "  File \"/usr/local/lib/python3.6/dist-packages/IPython/core/interactiveshell.py\", line 1823, in showtraceback\n",
            "    stb = value._render_traceback_()\n",
            "AttributeError: 'OSError' object has no attribute '_render_traceback_'\n",
            "\n",
            "During handling of the above exception, another exception occurred:\n",
            "\n",
            "Traceback (most recent call last):\n",
            "  File \"/usr/local/lib/python3.6/dist-packages/IPython/core/ultratb.py\", line 1132, in get_records\n",
            "    return _fixed_getinnerframes(etb, number_of_lines_of_context, tb_offset)\n",
            "  File \"/usr/local/lib/python3.6/dist-packages/IPython/core/ultratb.py\", line 313, in wrapped\n",
            "    return f(*args, **kwargs)\n",
            "  File \"/usr/local/lib/python3.6/dist-packages/IPython/core/ultratb.py\", line 358, in _fixed_getinnerframes\n",
            "    records = fix_frame_records_filenames(inspect.getinnerframes(etb, context))\n",
            "  File \"/usr/lib/python3.6/inspect.py\", line 1488, in getinnerframes\n",
            "    frameinfo = (tb.tb_frame,) + getframeinfo(tb, context)\n",
            "  File \"/usr/lib/python3.6/inspect.py\", line 1446, in getframeinfo\n",
            "    filename = getsourcefile(frame) or getfile(frame)\n",
            "  File \"/usr/lib/python3.6/inspect.py\", line 696, in getsourcefile\n",
            "    if getattr(getmodule(object, filename), '__loader__', None) is not None:\n",
            "  File \"/usr/lib/python3.6/inspect.py\", line 725, in getmodule\n",
            "    file = getabsfile(object, _filename)\n",
            "  File \"/usr/lib/python3.6/inspect.py\", line 709, in getabsfile\n",
            "    return os.path.normcase(os.path.abspath(_filename))\n",
            "  File \"/usr/lib/python3.6/posixpath.py\", line 376, in abspath\n",
            "    cwd = os.getcwd()\n",
            "OSError: [Errno 107] Transport endpoint is not connected\n"
          ],
          "name": "stdout"
        },
        {
          "output_type": "error",
          "ename": "OSError",
          "evalue": "ignored",
          "traceback": [
            "\u001b[0;31m---------------------------------------------------------------------------\u001b[0m"
          ]
        }
      ]
    }
  ]
}